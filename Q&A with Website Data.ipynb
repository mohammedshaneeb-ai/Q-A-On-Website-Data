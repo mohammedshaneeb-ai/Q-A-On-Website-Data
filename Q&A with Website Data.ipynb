{
 "cells": [
  {
   "cell_type": "code",
   "execution_count": 1,
   "id": "9a9e009e",
   "metadata": {},
   "outputs": [],
   "source": [
    "from langchain.document_loaders import WebBaseLoader"
   ]
  },
  {
   "cell_type": "markdown",
   "id": "91be735e",
   "metadata": {},
   "source": [
    "## Loading Data"
   ]
  },
  {
   "cell_type": "code",
   "execution_count": 2,
   "id": "e9cda21d",
   "metadata": {},
   "outputs": [],
   "source": [
    "loader = WebBaseLoader(\"https://towardsdatascience.com/getting-started-with-langchain-a-beginners-guide-to-building-llm-powered-applications-95fc8898732c\")"
   ]
  },
  {
   "cell_type": "code",
   "execution_count": 3,
   "id": "a615de60",
   "metadata": {},
   "outputs": [],
   "source": [
    "data = loader.load()"
   ]
  },
  {
   "cell_type": "code",
   "execution_count": 4,
   "id": "fcb7fd4a",
   "metadata": {},
   "outputs": [
    {
     "data": {
      "text/plain": [
       "[Document(page_content=\"Getting Started with LangChain: A Beginnerâ€™s Guide to Building LLM-Powered Applications | by Leonie Monigatti | Towards Data ScienceOpen in appSign upSign InWriteSign upSign InMember-only storyGetting Started with LangChain: A Beginnerâ€™s Guide to Building LLM-Powered ApplicationsA LangChain tutorial to build anything with large language models in PythonLeonie MonigattiÂ·FollowPublished inTowards Data ScienceÂ·12 min readÂ·Apr 25--28Shareâ€œWhat did the stochastic parrot say to the other?â€� (Image drawn by the author)Since the release of ChatGPT, large language models (LLMs) have gained a lot of popularity. Although you probably donâ€™t have enough money and computational resources to train an LLM from scratch in your basement, you can still use pre-trained LLMs to build something cool, such as:Personal assistants that can interact with the outside world based on your dataChatbots customized for your purposeAnalysis or summarization of your documents or codeLLMs are changing how we build AI-powered productsWith their weird APIs and prompt engineering, LLMs are changing how we build AI-powered products. Thatâ€™s why new developer tools are emerging everywhere under the term â€œLLMOpsâ€�.One of these new tools is LangChain.GitHub - hwchase17/langchain: âš¡ Building applications with LLMs through composability âš¡âš¡ Building applications with LLMs through composability âš¡ Production Support: As you move your LangChains intoâ€¦github.comWhat is LangChain?LangChain is a framework built to help you build LLM-powered applications more easily by providing you with the following:a generic interface to a variety of different foundation models (see Models),a framework to help you manage your prompts (see Prompts), anda central interface to long-term memory (see Memory), external data (see Indexes), other LLMs (see Chains), and other agents for tasks an LLM is not able to handle (e.g., calculations or search) (see Agents).It is an open-source project (GitHub repository) created by Harrison Chase.Because LangChain has a lot of different functionalities, it may be challenging to understand what it does at first. Thatâ€™s why we will go over the (currently) six key modules of LangChain in this article to give you a better understanding of its capabilities.----28FollowWritten by Leonie Monigatti19.5K FollowersÂ·Writer for Towards Data ScienceDeveloper Advocate @ Weaviate. Follow for practical data science guides - whether you're a data scientist or not. linkedin.com/in/804250abFollowMore from Leonie Monigatti and Towards Data ScienceLeonie MonigattiinTowards Data ScienceExplaining Vector Databases in 3 Levels of DifficultyFrom noob to expert: Demystifying vector databases across different backgroundsÂ·8 min readÂ·Jul 4--24Zoumana KeitainTowards Data ScienceHow to Chat With Any File from PDFs to Images Using Large Language Modelsâ€Šâ€”â€ŠWith CodeComplete guide to building an AI assistant that can answer questions about any fileÂ·9 min readÂ·Aug 5--12Heiko HotzinTowards Data ScienceRAG vs Finetuningâ€Šâ€”â€ŠWhich Is the Best Tool to Boost Your LLM Application?The definitive guide for choosing the right method for your use caseÂ·19 min readÂ·Aug 24--14Leonie MonigattiinTowards Data Science10 Exciting Project Ideas Using Large Language Models (LLMs) for Your PortfolioLearn how to build apps and showcase your skills with large language models (LLMs). Get started today!Â·11 min readÂ·May 15--12See all from Leonie MonigattiSee all from Towards Data ScienceRecommended from MediumHeiko HotzinTowards Data ScienceRAG vs Finetuningâ€Šâ€”â€ŠWhich Is the Best Tool to Boost Your LLM Application?The definitive guide for choosing the right method for your use caseÂ·19 min readÂ·Aug 24--14Dmitry KruglovinBetter ProgrammingThe Architecture of a Modern StartupHype wave, pragmatic evidence vs the need to move fast16 min readÂ·Nov 7, 2022--48ListsPredictive Modeling w/ Python20 storiesÂ·350 savesPractical Guides to Machine Learning10 storiesÂ·387 savesNatural Language Processing574 storiesÂ·193 savesChatGPT prompts 24 storiesÂ·335 savesMaximilian VogelinMLearning.aiThe ChatGPT list of lists: A collection of 3000+ prompts, examples, use-cases, tools, APIsâ€¦Updated Aug 20, 2023. Added prompt design courses, masterclasses and tutorials.10 min readÂ·Feb 7--92Wei-Meng LeeinLevel Up CodingTraining Your Own LLM using privateGPTLearn how to train your own language model without exposing your private data to the providerÂ·8 min readÂ·May 19--12Sachin KulkarniGenerative AI with Enterprise DataCreate business value add Enterprise knowledge to Large Language Models6 min readÂ·Jul 25--3Yingjun WuinData Engineer ThingsWhy You Shouldnâ€™t Invest In Vector Databases?Delving into the vector database field from three perspectives: technology, applications, and the market.8 min readÂ·Jun 7--14See more recommendationsHelpStatusWritersBlogCareersPrivacyTermsAboutText to speechTeams\\n\\n\\n\\n\\n\\n\\n\\n\\n\\n\\n\\n\\n\\n\\n\\n\\n\\n\\n\\n\\n\\n\\n\\n\\n\\n\\n\\n\\n\\n\\n\\n\\n\\n\", metadata={'source': 'https://towardsdatascience.com/getting-started-with-langchain-a-beginners-guide-to-building-llm-powered-applications-95fc8898732c', 'title': 'Getting Started with LangChain: A Beginnerâ€™s Guide to Building LLM-Powered Applications | by Leonie Monigatti | Towards Data Science', 'description': 'A tutorial of the six core modules of the LangChain Python package covering models, prompts, chains, agents, indexes, and memory with OpenAI and Hugging Face.', 'language': 'en'})]"
      ]
     },
     "execution_count": 4,
     "metadata": {},
     "output_type": "execute_result"
    }
   ],
   "source": [
    "data"
   ]
  },
  {
   "cell_type": "code",
   "execution_count": 10,
   "id": "0877f498",
   "metadata": {},
   "outputs": [
    {
     "name": "stdout",
     "output_type": "stream",
     "text": [
      "Getting Started with LangChain: A Beginnerâ€™s Guide to Building LLM-Powered Applications | by Leonie Monigatti | Towards Data ScienceOpen in appSign upSign InWriteSign upSign InMember-only storyGetting Started with LangChain: A Beginnerâ€™s Guide to Building LLM-Powered ApplicationsA LangChain tutorial to build anything with large language models in PythonLeonie MonigattiÂ·FollowPublished inTowards Data ScienceÂ·12 min readÂ·Apr 25--28Shareâ€œWhat did the stochastic parrot say to the other?â€� (Image drawn by the author)Since the release of ChatGPT, large language models (LLMs) have gained a lot of popularity. Although you probably donâ€™t have enough money and computational resources to train an LLM from scratch in your basement, you can still use pre-trained LLMs to build something cool, such as:Personal assistants that can interact with the outside world based on your dataChatbots customized for your purposeAnalysis or summarization of your documents or codeLLMs are changing how we build AI-powered productsWith their weird APIs and prompt engineering, LLMs are changing how we build AI-powered products. Thatâ€™s why new developer tools are emerging everywhere under the term â€œLLMOpsâ€�.One of these new tools is LangChain.GitHub - hwchase17/langchain: âš¡ Building applications with LLMs through composability âš¡âš¡ Building applications with LLMs through composability âš¡ Production Support: As you move your LangChains intoâ€¦github.comWhat is LangChain?LangChain is a framework built to help you build LLM-powered applications more easily by providing you with the following:a generic interface to a variety of different foundation models (see Models),a framework to help you manage your prompts (see Prompts), anda central interface to long-term memory (see Memory), external data (see Indexes), other LLMs (see Chains), and other agents for tasks an LLM is not able to handle (e.g., calculations or search) (see Agents).It is an open-source project (GitHub repository) created by Harrison Chase.Because LangChain has a lot of different functionalities, it may be challenging to understand what it does at first. Thatâ€™s why we will go over the (currently) six key modules of LangChain in this article to give you a better understanding of its capabilities.----28FollowWritten by Leonie Monigatti19.5K FollowersÂ·Writer for Towards Data ScienceDeveloper Advocate @ Weaviate. Follow for practical data science guides - whether you're a data scientist or not. linkedin.com/in/804250abFollowMore from Leonie Monigatti and Towards Data ScienceLeonie MonigattiinTowards Data ScienceExplaining Vector Databases in 3 Levels of DifficultyFrom noob to expert: Demystifying vector databases across different backgroundsÂ·8 min readÂ·Jul 4--24Zoumana KeitainTowards Data ScienceHow to Chat With Any File from PDFs to Images Using Large Language Modelsâ€Šâ€”â€ŠWith CodeComplete guide to building an AI assistant that can answer questions about any fileÂ·9 min readÂ·Aug 5--12Heiko HotzinTowards Data ScienceRAG vs Finetuningâ€Šâ€”â€ŠWhich Is the Best Tool to Boost Your LLM Application?The definitive guide for choosing the right method for your use caseÂ·19 min readÂ·Aug 24--14Leonie MonigattiinTowards Data Science10 Exciting Project Ideas Using Large Language Models (LLMs) for Your PortfolioLearn how to build apps and showcase your skills with large language models (LLMs). Get started today!Â·11 min readÂ·May 15--12See all from Leonie MonigattiSee all from Towards Data ScienceRecommended from MediumHeiko HotzinTowards Data ScienceRAG vs Finetuningâ€Šâ€”â€ŠWhich Is the Best Tool to Boost Your LLM Application?The definitive guide for choosing the right method for your use caseÂ·19 min readÂ·Aug 24--14Dmitry KruglovinBetter ProgrammingThe Architecture of a Modern StartupHype wave, pragmatic evidence vs the need to move fast16 min readÂ·Nov 7, 2022--48ListsPredictive Modeling w/ Python20 storiesÂ·350 savesPractical Guides to Machine Learning10 storiesÂ·387 savesNatural Language Processing574 storiesÂ·193 savesChatGPT prompts 24 storiesÂ·335 savesMaximilian VogelinMLearning.aiThe ChatGPT list of lists: A collection of 3000+ prompts, examples, use-cases, tools, APIsâ€¦Updated Aug 20, 2023. Added prompt design courses, masterclasses and tutorials.10 min readÂ·Feb 7--92Wei-Meng LeeinLevel Up CodingTraining Your Own LLM using privateGPTLearn how to train your own language model without exposing your private data to the providerÂ·8 min readÂ·May 19--12Sachin KulkarniGenerative AI with Enterprise DataCreate business value add Enterprise knowledge to Large Language Models6 min readÂ·Jul 25--3Yingjun WuinData Engineer ThingsWhy You Shouldnâ€™t Invest In Vector Databases?Delving into the vector database field from three perspectives: technology, applications, and the market.8 min readÂ·Jun 7--14See more recommendationsHelpStatusWritersBlogCareersPrivacyTermsAboutText to speechTeams\n",
      "\n",
      "\n",
      "\n",
      "\n",
      "\n",
      "\n",
      "\n",
      "\n",
      "\n",
      "\n",
      "\n",
      "\n",
      "\n",
      "\n",
      "\n",
      "\n",
      "\n",
      "\n",
      "\n",
      "\n",
      "\n",
      "\n",
      "\n",
      "\n",
      "\n",
      "\n",
      "\n",
      "\n",
      "\n",
      "\n",
      "\n",
      "\n",
      "\n",
      "\n"
     ]
    }
   ],
   "source": [
    "print(data[0].page_content)"
   ]
  },
  {
   "cell_type": "code",
   "execution_count": 20,
   "id": "81cd13a3",
   "metadata": {},
   "outputs": [],
   "source": [
    "loader =WebBaseLoader(\"https://www.javatpoint.com/nlp\")"
   ]
  },
  {
   "cell_type": "code",
   "execution_count": 21,
   "id": "c30e314b",
   "metadata": {},
   "outputs": [],
   "source": [
    "data = loader.load()"
   ]
  },
  {
   "cell_type": "code",
   "execution_count": 22,
   "id": "cddef24f",
   "metadata": {},
   "outputs": [
    {
     "data": {
      "text/plain": [
       "' \\n\\n\\nNLP Tutorial - Javatpoint\\n\\n\\n\\n\\n\\n\\n\\n\\n           \\n\\n\\n\\n\\n\\n\\n\\n\\n\\n\\n \\n\\nHome\\nJava\\nNLP\\nPython\\nSQL\\nAndroid\\nCloud\\nJavaScript\\nServlet\\nJSP\\nStruts2\\nSpring\\nQuiz\\nProjects\\nInterview Q\\nComment\\nForum\\nTraining\\n\\n\\n\\n\\n\\n\\n\\nNLP Tutorial\\n\\n\\nNLP Tutorial\\n\\n\\n\\n\\n\\n\\n\\n\\n\\n\\n\\n\\nNLP Tutorial\\nNLP tutorial provides basic and advanced concepts of the NLP tutorial. Our NLP tutorial is designed for beginners and professionals.\\n\\nWhat is NLP?\\nHistory of NLP\\nAdvantages of NLP\\nDisadvantages of NLP\\nComponents of NLP\\nApplications of NLP\\nHow to build an NLP pipeline?\\nPhases of NLP\\nWhy NLP is Difficult?\\nNLP APIs\\nNLP Libraries\\nDifference between Natural language and Computer language\\n\\n\\nWhat is NLP?\\nNLP stands for Natural Language Processing, which is a part of Computer Science, Human language, and Artificial Intelligence. It is the technology that is used by machines to understand, analyse, manipulate, and interpret human\\'s languages. It helps developers to organize knowledge for performing tasks such as translation, automatic summarization, Named Entity Recognition (NER), speech recognition, relationship extraction, and topic segmentation.\\n\\n\\nHistory of NLP\\n(1940-1960) - Focused on Machine Translation (MT)\\nThe Natural Languages Processing started in the year 1940s.\\n1948 - In the Year 1948, the first recognisable NLP application was introduced in Birkbeck College, London.\\n1950s - In the Year 1950s, there was a conflicting view between linguistics and computer science. Now, Chomsky developed his first book syntactic structures and claimed that language is generative in nature. \\nIn 1957, Chomsky also introduced the idea of Generative Grammar, which is rule based descriptions of syntactic structures.\\n(1960-1980) - Flavored with Artificial Intelligence (AI)\\nIn the year 1960 to 1980, the key developments were:\\nAugmented Transition Networks (ATN)\\nAugmented Transition Networks is a finite state machine that is capable of recognizing regular languages.\\nCase Grammar\\nCase Grammar was developed by Linguist Charles J. Fillmore in the year 1968. Case Grammar uses languages such as English to express the relationship between nouns and verbs by using the preposition.\\nIn Case Grammar, case roles can be defined to link certain kinds of verbs and objects.\\nFor example: \"Neha broke the mirror with the hammer\". In this example case grammar identify Neha as an agent, mirror as a theme, and hammer as an instrument.\\nIn the year 1960 to 1980, key systems were:\\nSHRDLU\\nSHRDLU is a program written by Terry Winograd in 1968-70. It helps users to communicate with the computer and moving objects. It can handle instructions such as \"pick up the green boll\" and also answer the questions like \"What is inside the black box.\" The main importance of SHRDLU is that it shows those syntax, semantics, and reasoning about the world that can be combined to produce a system that understands a natural language.\\nLUNAR\\nLUNAR is the classic example of a Natural Language database interface system that is used ATNs and Woods\\' Procedural Semantics. It was capable of translating elaborate natural language expressions into database queries and handle 78% of requests without errors.\\n1980 - Current\\nTill the year 1980, natural language processing systems were based on complex sets of hand-written rules. After 1980, NLP introduced machine learning algorithms for language processing.\\nIn the beginning of the year 1990s, NLP started growing faster and achieved good process accuracy, especially in English Grammar. In 1990 also, an electronic text introduced, which provided a good resource for training and examining natural language programs. Other factors may include the availability of computers with fast CPUs and more memory. The major factor behind the advancement of natural language processing was the Internet.\\nNow, modern NLP consists of various applications, like speech recognition, machine translation, and machine text reading. When we combine all these applications then it allows the artificial intelligence to gain knowledge of the world. Let\\'s consider the example of AMAZON ALEXA, using this robot you can ask the question to Alexa, and it will reply to you.\\n\\nAdvantages of NLP\\n\\nNLP helps users to ask questions about any subject and get a direct response within seconds.\\nNLP offers exact answers to the question means it does not offer unnecessary and unwanted information.\\nNLP helps computers to communicate with humans in their languages.\\nIt is very time efficient.\\nMost of the companies use NLP to improve the efficiency of documentation processes, accuracy of documentation, and identify the information from large databases.\\n\\n\\nDisadvantages of NLP\\nA list of disadvantages of NLP is given below:\\n\\nNLP may not show context.\\nNLP is unpredictable\\nNLP may require more keystrokes.\\nNLP is unable to adapt to the new domain, and it has a limited function that\\'s why NLP is built for a single and specific task only. \\n\\n\\nComponents of NLP\\nThere are the following two components of NLP -\\n1. Natural Language Understanding (NLU)\\nNatural Language Understanding (NLU) helps the machine to understand and analyse human language by extracting the metadata from content such as concepts, entities, keywords, emotion, relations, and semantic roles.\\nNLU mainly used in Business applications to understand the customer\\'s problem in both spoken and written language.\\nNLU involves the following tasks -\\n\\nIt is used to map the given input into useful representation.\\nIt is used to analyze different aspects of the language.\\n\\n2. Natural Language Generation (NLG)\\nNatural Language Generation (NLG) acts as a translator that converts the computerized data into natural language representation. It mainly involves Text planning, Sentence planning, and Text Realization.\\nNote: The NLU is difficult than NLG.\\nDifference between NLU and NLG\\n\\n\\nNLU\\nNLG\\n\\n\\nNLU is the process of reading and interpreting language.\\nNLG is the process of writing or generating language.\\n\\n\\nIt produces non-linguistic outputs from natural language inputs.\\nIt produces constructing natural language outputs from non-linguistic inputs.\\n\\n\\n\\nApplications of NLP\\nThere are the following applications of NLP -\\n1. Question Answering\\nQuestion Answering focuses on building systems that automatically answer the questions asked by humans in a natural language. \\n\\n2. Spam Detection\\nSpam detection is used to detect unwanted e-mails getting to a user\\'s inbox.\\n\\n3. Sentiment Analysis\\nSentiment Analysis is also known as opinion mining. It is used on the web to analyse the attitude, behaviour, and emotional state of the sender. This application is implemented through a combination of NLP (Natural Language Processing) and statistics by assigning the values to the text (positive, negative, or natural), identify the mood of the context (happy, sad, angry, etc.)\\n\\n4. Machine Translation\\nMachine translation is used to translate text or speech from one natural language to another natural language. \\n\\nExample: Google Translator\\n5. Spelling correction\\nMicrosoft Corporation provides word processor software like MS-word, PowerPoint for the spelling correction.\\n\\n6. Speech Recognition\\nSpeech recognition is used for converting spoken words into text. It is used in applications, such as mobile, home automation, video recovery, dictating to Microsoft Word, voice biometrics, voice user interface, and so on.\\n7. Chatbot\\nImplementing the Chatbot is one of the important applications of NLP. It is used by many companies to provide the customer\\'s chat services.\\n\\n8. Information extraction\\nInformation extraction is one of the most important applications of NLP. It is used for extracting structured information from unstructured or semi-structured machine-readable documents.\\n9. Natural Language Understanding (NLU)\\nIt converts a large set of text into more formal representations such as first-order logic structures that are easier for the computer programs to manipulate notations of the natural language processing.\\n\\nHow to build an NLP pipeline\\nThere are the following steps to build an NLP pipeline -\\nStep1: Sentence Segmentation\\nSentence Segment is the first step for building the NLP pipeline. It breaks the paragraph into separate sentences.\\nExample: Consider the following paragraph -\\nIndependence Day is one of the important festivals for every Indian citizen. It is celebrated on the 15th of August each year ever since India got independence from the British rule. The day celebrates independence in the true sense.\\nSentence Segment produces the following result:\\n\\n\"Independence Day is one of the important festivals for every Indian citizen.\"\\n\"It is celebrated on the 15th of August each year ever since India got independence from the British rule.\"\\n\"This day celebrates independence in the true sense.\"\\n\\nStep2: Word Tokenization\\nWord Tokenizer is used to break the sentence into separate words or tokens.\\nExample:\\nJavaTpoint offers Corporate Training, Summer Training, Online Training, and Winter Training.\\nWord Tokenizer generates the following result:\\n\"JavaTpoint\", \"offers\", \"Corporate\", \"Training\", \"Summer\", \"Training\", \"Online\", \"Training\", \"and\", \"Winter\", \"Training\", \".\"\\nStep3: Stemming\\nStemming is used to normalize words into its base form or root form. For example, celebrates, celebrated and celebrating, all these words are originated with a single root word \"celebrate.\" The big problem with stemming is that sometimes it produces the root word which may not have any meaning.\\nFor Example, intelligence, intelligent, and intelligently, all these words are originated with a single root word \"intelligen.\" In English, the word \"intelligen\" do not have any meaning.\\nStep 4: Lemmatization\\nLemmatization is quite similar to the Stamming. It is used to group different inflected forms of the word, called Lemma. The main difference between Stemming and lemmatization is that it produces the root word, which has a meaning.\\nFor example: In lemmatization, the words intelligence, intelligent, and intelligently has a root word intelligent, which has a meaning.\\nStep 5: Identifying Stop Words\\nIn English, there are a lot of words that appear very frequently like \"is\", \"and\", \"the\", and \"a\". NLP pipelines will flag these words as stop words. Stop words might be filtered out before doing any statistical analysis.\\nExample: He is a good boy.\\nNote: When you are building a rock band search engine, then you do not ignore the word \"The.\" \\nStep 6: Dependency Parsing\\nDependency Parsing is used to find that how all the words in the sentence are related to each other. \\nStep 7: POS tags\\nPOS stands for parts of speech, which includes Noun, verb, adverb, and Adjective. It indicates that how a word functions with its meaning as well as grammatically within the sentences. A word has one or more parts of speech based on the context in which it is used.\\nExample: \"Google\" something on the Internet.\\nIn the above example, Google is used as a verb, although it is a proper noun.\\nStep 8: Named Entity Recognition (NER)\\nNamed Entity Recognition (NER) is the process of detecting the named entity such as person name, movie name, organization name, or location.\\nExample: Steve Jobs introduced iPhone at the Macworld Conference in San Francisco, California.\\nStep 9: Chunking\\nChunking is used to collect the individual piece of information and grouping them into bigger pieces of sentences.\\n\\nPhases of NLP\\nThere are the following five phases of NLP:\\n\\n1. Lexical Analysis and Morphological\\nThe first phase of NLP is the Lexical Analysis. This phase scans the source code as a stream of characters and converts it into meaningful lexemes. It divides the whole text into paragraphs, sentences, and words.\\n2. Syntactic Analysis (Parsing)\\nSyntactic Analysis is used to check grammar, word arrangements, and shows the relationship among the words. \\nExample: Agra goes to the Poonam\\nIn the real world, Agra goes to the Poonam, does not make any sense, so this sentence is rejected by the Syntactic analyzer.\\n3. Semantic Analysis\\nSemantic analysis is concerned with the meaning representation. It mainly focuses on the literal meaning of words, phrases, and sentences.\\n4. Discourse Integration\\nDiscourse Integration depends upon the sentences that proceeds it and also invokes the meaning of the sentences that follow it.\\n5. Pragmatic Analysis\\nPragmatic is the fifth and last phase of NLP. It helps you to discover the intended effect by applying a set of rules that characterize cooperative dialogues.\\nFor Example: \"Open the door\" is interpreted as a request instead of an order.\\n\\nWhy NLP is difficult?\\nNLP is difficult because Ambiguity and Uncertainty exist in the language.\\nAmbiguity\\nThere are the following three ambiguity -\\n\\nLexical Ambiguity\\n\\nLexical Ambiguity exists in the presence of two or more possible meanings of the sentence within a single word.\\nExample: \\nManya is looking for a match.\\nIn the above example, the word match refers to that either Manya is looking for a partner or Manya is looking for a match. (Cricket or other match)\\n\\nSyntactic Ambiguity\\n\\nSyntactic Ambiguity exists in the presence of two or more possible meanings within the sentence.\\nExample:\\nI saw the girl with the binocular.\\nIn the above example, did I have the binoculars? Or did the girl have the binoculars? \\n\\nReferential Ambiguity\\n\\nReferential Ambiguity exists when you are referring to something using the pronoun.\\nExample: Kiran went to Sunita. She said, \"I am hungry.\" \\nIn the above sentence, you do not know that who is hungry, either Kiran or Sunita. \\n\\nNLP APIs\\nNatural Language Processing APIs allow developers to integrate human-to-machine communications and complete several useful tasks such as speech recognition, chatbots, spelling correction, sentiment analysis, etc.\\nA list of NLP APIs is given below:\\n\\nIBM Watson API\\nIBM Watson API combines different sophisticated machine learning techniques to enable developers to classify text into various custom categories. It supports multiple languages, such as English, French, Spanish, German, Chinese, etc. With the help of IBM Watson API, you can extract insights from texts, add automation in workflows, enhance search, and understand the sentiment. The main advantage of this API is that it is very easy to use.\\nPricing: Firstly, it offers a free 30 days trial IBM cloud account. You can also opt for its paid plans.\\nChatbot API\\nChatbot API allows you to create intelligent chatbots for any service. It supports Unicode characters, classifies text, multiple languages, etc. It is very easy to use. It helps you to create a chatbot for your web applications.\\nPricing: Chatbot API is free for 150 requests per month. You can also opt for its paid version, which starts from $100 to $5,000 per month.\\nSpeech to text API\\nSpeech to text API is used to convert speech to text\\nPricing: Speech to text API is free for converting 60 minutes per month. Its paid version starts form $500 to $1,500 per month.\\nSentiment Analysis API\\nSentiment Analysis API is also called as \\'opinion mining\\' which is used to identify the tone of a user (positive, negative, or neutral)\\nPricing: Sentiment Analysis API is free for less than 500 requests per month. Its paid version starts form $19 to $99 per month.\\nTranslation API by SYSTRAN\\nThe Translation API by SYSTRAN is used to translate the text from the source language to the target language. You can use its NLP APIs for language detection, text segmentation, named entity recognition, tokenization, and many other tasks.\\nPricing: This API is available for free. But for commercial users, you need to use its paid version.\\nText Analysis API by AYLIEN\\nText Analysis API by AYLIEN is used to derive meaning and insights from the textual content. It is available for both free as well as paid from$119 per month. It is easy to use.\\nPricing: This API is available free for 1,000 hits per day. You can also use its paid version, which starts from $199 to S1, 399 per month.\\nCloud NLP API\\nThe Cloud NLP API is used to improve the capabilities of the application using natural language processing technology. It allows you to carry various natural language processing functions like sentiment analysis and language detection. It is easy to use.\\nPricing: Cloud NLP API is available for free.\\nGoogle Cloud Natural Language API\\nGoogle Cloud Natural Language API allows you to extract beneficial insights from unstructured text. This API allows you to perform entity recognition, sentiment analysis, content classification, and syntax analysis in more the 700 predefined categories. It also allows you to perform text analysis in multiple languages such as English, French, Chinese, and German.\\nPricing: After performing entity analysis for 5,000 to 10,000,000 units, you need to pay $1.00 per 1000 units per month.\\n\\n\\nNLP Libraries\\nScikit-learn: It provides a wide range of algorithms for building machine learning models in Python.\\nNatural language Toolkit (NLTK): NLTK is a complete toolkit for all NLP techniques.\\nPattern: It is a web mining module for NLP and machine learning.\\nTextBlob: It provides an easy interface to learn basic NLP tasks like sentiment analysis, noun phrase extraction, or pos-tagging.\\nQuepy: Quepy is used to transform natural language questions into queries in a database query language.\\nSpaCy: SpaCy is an open-source NLP library which is used for Data Extraction, Data Analysis, Sentiment Analysis, and Text Summarization.\\nGensim: Gensim works with large datasets and processes data streams.\\n\\nDifference between Natural language and Computer Language\\n\\n\\nNatural Language\\nComputer Language\\n\\n\\nNatural language has a very large vocabulary.\\nComputer language has a very limited vocabulary.\\n\\n\\nNatural language is easily understood by humans.\\nComputer language is easily understood by the machines.\\n\\n\\nNatural language is ambiguous in nature.\\nComputer language is unambiguous.\\n\\n\\n\\nPrerequisite\\nBefore learning NLP, you must have the basic knowledge of Python.\\nAudience\\nOur NLP tutorial is designed to help beginners.\\nProblem\\nWe assure that you will not find any problem in this NLP tutorial. But if there is any mistake or error, please post the error in the contact form.\\n\\n\\n\\n\\n\\n\\n\\n For Videos Join Our Youtube Channel:  Join Now\\n\\n\\nFeedback\\n\\nSend your Feedback to [email\\xa0protected]\\n\\n\\nHelp Others, Please Share\\n\\n\\n\\n\\n\\nLearn Latest Tutorials\\n\\n\\n\\nSplunk\\n\\n\\n\\n\\nSPSS\\n\\n\\n\\n\\nSwagger\\n\\n\\n\\n\\nTransact-SQL\\n\\n\\n\\n\\nTumblr\\n\\n\\n\\n\\nReactJS\\n\\n\\n\\n\\nRegex\\n\\n\\n\\n\\nReinforcement Learning\\n\\n\\n\\n\\nR Programming\\n\\n\\n\\n\\nRxJS\\n\\n\\n\\n\\nReact Native\\n\\n\\n\\n\\nPython Design Patterns\\n\\n\\n\\n\\nPython Pillow\\n\\n\\n\\n\\nPython Turtle\\n\\n\\n\\n\\nKeras\\n\\n\\n\\n\\n\\n\\nPreparation\\n\\n\\n\\nAptitude\\n\\n\\n\\n\\nReasoning\\n\\n\\n\\n\\nVerbal Ability\\n\\n\\n\\n\\nInterview Questions\\n\\n\\n\\n\\nCompany Questions\\n\\n\\n\\n\\n\\n\\nTrending Technologies\\n\\n\\n\\nArtificial Intelligence\\n\\n\\n\\n\\nAWS\\n\\n\\n\\n\\nSelenium\\n\\n\\n\\n\\nCloud Computing\\n\\n\\n\\n\\nHadoop\\n\\n\\n\\n\\nReactJS\\n\\n\\n\\n\\nData Science\\n\\n\\n\\n\\nAngular 7\\n\\n\\n\\n\\nBlockchain\\n\\n\\n\\n\\nGit\\n\\n\\n\\n\\nMachine Learning\\n\\n\\n\\n\\nDevOps\\n\\n\\n\\n\\n\\n\\nB.Tech / MCA\\n\\n\\n\\nDBMS\\n\\n\\n\\n\\nData Structures\\n\\n\\n\\n\\nDAA\\n\\n\\n\\n\\nOperating System\\n\\n\\n\\n\\nComputer Network\\n\\n\\n\\n\\nCompiler Design\\n\\n\\n\\n\\nComputer Organization\\n\\n\\n\\n\\nDiscrete Mathematics\\n\\n\\n\\n\\nEthical Hacking\\n\\n\\n\\n\\nComputer Graphics\\n\\n\\n\\n\\nSoftware Engineering\\n\\n\\n\\n\\nWeb Technology\\n\\n\\n\\n\\nCyber Security\\n\\n\\n\\n\\nAutomata\\n\\n\\n\\n\\nC Programming\\n\\n\\n\\n\\nC++\\n\\n\\n\\n\\nJava\\n\\n\\n\\n\\n.Net\\n\\n\\n\\n\\nPython\\n\\n\\n\\n\\nPrograms\\n\\n\\n\\n\\nControl System\\n\\n\\n\\n\\nData Mining\\n\\n\\n\\n\\nData Warehouse\\n\\n\\n\\n\\n\\n\\n\\n\\n\\n\\n\\n\\n\\n\\n Javatpoint Services JavaTpoint offers too many high quality services. Mail us on h[email\\xa0protected], to get more information about given services.  Website DesigningWebsite DevelopmentJava DevelopmentPHP DevelopmentWordPressGraphic DesigningLogoDigital MarketingOn Page and Off Page SEOPPCContent DevelopmentCorporate TrainingClassroom and Online TrainingData Entry  Training For College Campus JavaTpoint offers college campus training on Core Java, Advance Java, .Net, Android, Hadoop, PHP, Web Technology and Python. Please mail your requirement at [email\\xa0protected]. Duration: 1 week to 2 week Like/Subscribe us for latest updates or newsletter        Learn TutorialsLearn JavaLearn Data StructuresLearn C ProgrammingLearn C++ TutorialLearn C# TutorialLearn PHP TutorialLearn HTML TutorialLearn JavaScript TutorialLearn jQuery TutorialLearn Spring TutorialOur WebsitesJavatpoint.comHindi100.comLyricsia.comQuoteperson.comJobandplacement.comOur ServicesWebsite DevelopmentAndroid DevelopmentWebsite DesigningDigital MarketingSummer TrainingIndustrial TrainingCollege Campus TrainingContactAddress: G-13, 2nd Floor, Sec-3Noida, UP, 201301, IndiaContact No: 0120-4256464, 9990449935Contact Us Subscribe Us Privacy PolicySitemapAbout Me© Copyright 2011-2021 www.javatpoint.com. All rights reserved. Developed by JavaTpoint.\\n\\n\\n\\n\\n\\n\\n  '"
      ]
     },
     "execution_count": 22,
     "metadata": {},
     "output_type": "execute_result"
    }
   ],
   "source": [
    "data[0].page_content"
   ]
  },
  {
   "cell_type": "markdown",
   "id": "65493b5c",
   "metadata": {},
   "source": [
    "## Splitting to Chunks"
   ]
  },
  {
   "cell_type": "code",
   "execution_count": 23,
   "id": "09aa9520",
   "metadata": {},
   "outputs": [],
   "source": [
    "from langchain.text_splitter import RecursiveCharacterTextSplitter\n",
    "\n",
    "splitter = RecursiveCharacterTextSplitter(chunk_size=500,chunk_overlap=20)\n",
    "docs = splitter.split_documents(data)"
   ]
  },
  {
   "cell_type": "code",
   "execution_count": 24,
   "id": "4a3ddc00",
   "metadata": {},
   "outputs": [
    {
     "data": {
      "text/plain": [
       "51"
      ]
     },
     "execution_count": 24,
     "metadata": {},
     "output_type": "execute_result"
    }
   ],
   "source": [
    "len(docs)"
   ]
  },
  {
   "cell_type": "code",
   "execution_count": 25,
   "id": "140c556d",
   "metadata": {},
   "outputs": [
    {
     "data": {
      "text/plain": [
       "Document(page_content='NLP Tutorial - Javatpoint\\n\\n\\n\\n\\n\\n\\n\\n\\n           \\n\\n\\n\\n\\n\\n\\n\\n\\n\\n\\n \\n\\nHome\\nJava\\nNLP\\nPython\\nSQL\\nAndroid\\nCloud\\nJavaScript\\nServlet\\nJSP\\nStruts2\\nSpring\\nQuiz\\nProjects\\nInterview Q\\nComment\\nForum\\nTraining\\n\\n\\n\\n\\n\\n\\n\\nNLP Tutorial\\n\\n\\nNLP Tutorial\\n\\n\\n\\n\\n\\n\\n\\n\\n\\n\\n\\n\\nNLP Tutorial\\nNLP tutorial provides basic and advanced concepts of the NLP tutorial. Our NLP tutorial is designed for beginners and professionals.', metadata={'source': 'https://www.javatpoint.com/nlp', 'title': 'NLP Tutorial - Javatpoint', 'description': 'NLP Tutorial with Introduction, What is NLP, History, Advantage, Disadvantage, Components, Applications, Why NLP is Difficult, APIs, Libraries, Natural language vs Computer language etc.', 'language': 'en'})"
      ]
     },
     "execution_count": 25,
     "metadata": {},
     "output_type": "execute_result"
    }
   ],
   "source": [
    "docs[0]"
   ]
  },
  {
   "cell_type": "markdown",
   "id": "4a74daae",
   "metadata": {},
   "source": [
    "## Embedding"
   ]
  },
  {
   "cell_type": "code",
   "execution_count": 26,
   "id": "d253699e",
   "metadata": {},
   "outputs": [],
   "source": [
    "from langchain.embeddings import SentenceTransformerEmbeddings\n",
    "from langchain.vectorstores import Chroma\n",
    "\n",
    "embedding = SentenceTransformerEmbeddings(model_name=\"all-MiniLM-L6-v2\")"
   ]
  },
  {
   "cell_type": "markdown",
   "id": "eb98846e",
   "metadata": {},
   "source": [
    "## VectorStore"
   ]
  },
  {
   "cell_type": "code",
   "execution_count": 27,
   "id": "44cec9e7",
   "metadata": {},
   "outputs": [],
   "source": [
    "db = Chroma.from_documents(docs,embedding)"
   ]
  },
  {
   "cell_type": "markdown",
   "id": "9958ba59",
   "metadata": {},
   "source": [
    "## Getting Relevant Documets"
   ]
  },
  {
   "cell_type": "code",
   "execution_count": 28,
   "id": "9248a273",
   "metadata": {},
   "outputs": [],
   "source": [
    "query = \"Advantages of NLP\"\n",
    "similar_docs = db.similarity_search(query=query,k=2)\n"
   ]
  },
  {
   "cell_type": "code",
   "execution_count": 29,
   "id": "e2f51b55",
   "metadata": {},
   "outputs": [
    {
     "data": {
      "text/plain": [
       "[Document(page_content='Advantages of NLP\\n\\nNLP helps users to ask questions about any subject and get a direct response within seconds.\\nNLP offers exact answers to the question means it does not offer unnecessary and unwanted information.\\nNLP helps computers to communicate with humans in their languages.\\nIt is very time efficient.\\nMost of the companies use NLP to improve the efficiency of documentation processes, accuracy of documentation, and identify the information from large databases.', metadata={'description': 'NLP Tutorial with Introduction, What is NLP, History, Advantage, Disadvantage, Components, Applications, Why NLP is Difficult, APIs, Libraries, Natural language vs Computer language etc.', 'language': 'en', 'source': 'https://www.javatpoint.com/nlp', 'title': 'NLP Tutorial - Javatpoint'}),\n",
       " Document(page_content=\"Disadvantages of NLP\\nA list of disadvantages of NLP is given below:\\n\\nNLP may not show context.\\nNLP is unpredictable\\nNLP may require more keystrokes.\\nNLP is unable to adapt to the new domain, and it has a limited function that's why NLP is built for a single and specific task only.\", metadata={'description': 'NLP Tutorial with Introduction, What is NLP, History, Advantage, Disadvantage, Components, Applications, Why NLP is Difficult, APIs, Libraries, Natural language vs Computer language etc.', 'language': 'en', 'source': 'https://www.javatpoint.com/nlp', 'title': 'NLP Tutorial - Javatpoint'})]"
      ]
     },
     "execution_count": 29,
     "metadata": {},
     "output_type": "execute_result"
    }
   ],
   "source": [
    "similar_docs"
   ]
  },
  {
   "cell_type": "code",
   "execution_count": 39,
   "id": "3801e707",
   "metadata": {},
   "outputs": [
    {
     "name": "stdout",
     "output_type": "stream",
     "text": [
      "[Document(page_content=\"Now, modern NLP consists of various applications, like speech recognition, machine translation, and machine text reading. When we combine all these applications then it allows the artificial intelligence to gain knowledge of the world. Let's consider the example of AMAZON ALEXA, using this robot you can ask the question to Alexa, and it will reply to you.\", metadata={'description': 'NLP Tutorial with Introduction, What is NLP, History, Advantage, Disadvantage, Components, Applications, Why NLP is Difficult, APIs, Libraries, Natural language vs Computer language etc.', 'language': 'en', 'source': 'https://www.javatpoint.com/nlp', 'title': 'NLP Tutorial - Javatpoint'}), Document(page_content=\"What is NLP?\\nNLP stands for Natural Language Processing, which is a part of Computer Science, Human language, and Artificial Intelligence. It is the technology that is used by machines to understand, analyse, manipulate, and interpret human's languages. It helps developers to organize knowledge for performing tasks such as translation, automatic summarization, Named Entity Recognition (NER), speech recognition, relationship extraction, and topic segmentation.\", metadata={'description': 'NLP Tutorial with Introduction, What is NLP, History, Advantage, Disadvantage, Components, Applications, Why NLP is Difficult, APIs, Libraries, Natural language vs Computer language etc.', 'language': 'en', 'source': 'https://www.javatpoint.com/nlp', 'title': 'NLP Tutorial - Javatpoint'}), Document(page_content='8. Information extraction\\nInformation extraction is one of the most important applications of NLP. It is used for extracting structured information from unstructured or semi-structured machine-readable documents.\\n9. Natural Language Understanding (NLU)\\nIt converts a large set of text into more formal representations such as first-order logic structures that are easier for the computer programs to manipulate notations of the natural language processing.', metadata={'description': 'NLP Tutorial with Introduction, What is NLP, History, Advantage, Disadvantage, Components, Applications, Why NLP is Difficult, APIs, Libraries, Natural language vs Computer language etc.', 'language': 'en', 'source': 'https://www.javatpoint.com/nlp', 'title': 'NLP Tutorial - Javatpoint'}), Document(page_content='NLU\\nNLG\\n\\n\\nNLU is the process of reading and interpreting language.\\nNLG is the process of writing or generating language.\\n\\n\\nIt produces non-linguistic outputs from natural language inputs.\\nIt produces constructing natural language outputs from non-linguistic inputs.\\n\\n\\n\\nApplications of NLP\\nThere are the following applications of NLP -\\n1. Question Answering\\nQuestion Answering focuses on building systems that automatically answer the questions asked by humans in a natural language.', metadata={'description': 'NLP Tutorial with Introduction, What is NLP, History, Advantage, Disadvantage, Components, Applications, Why NLP is Difficult, APIs, Libraries, Natural language vs Computer language etc.', 'language': 'en', 'source': 'https://www.javatpoint.com/nlp', 'title': 'NLP Tutorial - Javatpoint'})]\n"
     ]
    }
   ],
   "source": [
    "query = \"Applications of NLP\"\n",
    "similar_docs = db.similarity_search(query=query)\n",
    "print(similar_docs)"
   ]
  },
  {
   "cell_type": "markdown",
   "id": "a630dd09",
   "metadata": {},
   "source": [
    "## Using LLM"
   ]
  },
  {
   "cell_type": "code",
   "execution_count": 41,
   "id": "a4734bce",
   "metadata": {},
   "outputs": [],
   "source": [
    "from dotenv import load_dotenv\n",
    "import os\n",
    "load_dotenv()\n",
    "\n",
    "os.environ['OPENAI_API_KEY'] = os.environ.get('OPENAI_API_KEY')\n"
   ]
  },
  {
   "cell_type": "code",
   "execution_count": 47,
   "id": "2db8f2da",
   "metadata": {},
   "outputs": [
    {
     "name": "stdout",
     "output_type": "stream",
     "text": [
      "\n",
      "\n",
      "\u001b[1m> Entering new StuffDocumentsChain chain...\u001b[0m\n",
      "\n",
      "\n",
      "\u001b[1m> Entering new LLMChain chain...\u001b[0m\n",
      "Prompt after formatting:\n",
      "\u001b[32;1m\u001b[1;3mSystem: Use the following pieces of context to answer the users question. \n",
      "If you don't know the answer, just say that you don't know, don't try to make up an answer.\n",
      "----------------\n",
      "Now, modern NLP consists of various applications, like speech recognition, machine translation, and machine text reading. When we combine all these applications then it allows the artificial intelligence to gain knowledge of the world. Let's consider the example of AMAZON ALEXA, using this robot you can ask the question to Alexa, and it will reply to you.\n",
      "\n",
      "What is NLP?\n",
      "NLP stands for Natural Language Processing, which is a part of Computer Science, Human language, and Artificial Intelligence. It is the technology that is used by machines to understand, analyse, manipulate, and interpret human's languages. It helps developers to organize knowledge for performing tasks such as translation, automatic summarization, Named Entity Recognition (NER), speech recognition, relationship extraction, and topic segmentation.\n",
      "\n",
      "8. Information extraction\n",
      "Information extraction is one of the most important applications of NLP. It is used for extracting structured information from unstructured or semi-structured machine-readable documents.\n",
      "9. Natural Language Understanding (NLU)\n",
      "It converts a large set of text into more formal representations such as first-order logic structures that are easier for the computer programs to manipulate notations of the natural language processing.\n",
      "\n",
      "NLU\n",
      "NLG\n",
      "\n",
      "\n",
      "NLU is the process of reading and interpreting language.\n",
      "NLG is the process of writing or generating language.\n",
      "\n",
      "\n",
      "It produces non-linguistic outputs from natural language inputs.\n",
      "It produces constructing natural language outputs from non-linguistic inputs.\n",
      "\n",
      "\n",
      "\n",
      "Applications of NLP\n",
      "There are the following applications of NLP -\n",
      "1. Question Answering\n",
      "Question Answering focuses on building systems that automatically answer the questions asked by humans in a natural language.\n",
      "Human: what are the applications of NLP\u001b[0m\n",
      "\n",
      "\u001b[1m> Finished chain.\u001b[0m\n",
      "\n",
      "\u001b[1m> Finished chain.\u001b[0m\n"
     ]
    },
    {
     "data": {
      "text/plain": [
       "'The applications of NLP include:\\n\\n1. Question Answering: Building systems that automatically answer questions asked by humans in natural language.\\n2. Machine Translation: Translating text or speech from one language to another.\\n3. Sentiment Analysis: Analyzing and determining the sentiment or emotion expressed in a piece of text.\\n4. Text Summarization: Generating concise summaries of longer texts.\\n5. Named Entity Recognition: Identifying and classifying named entities such as names of people, organizations, locations, etc. in text.\\n6. Speech Recognition: Converting spoken language into written text.\\n7. Text Classification: Categorizing text into predefined categories or classes.\\n8. Information Extraction: Extracting structured information from unstructured or semi-structured documents.\\n9. Natural Language Understanding (NLU): Converting text into more formal representations for easier manipulation by computer programs.\\n10. Natural Language Generation (NLG): Generating natural language outputs from non-linguistic inputs.\\n11. Chatbots and Virtual Assistants: Creating conversational agents that can interact with users in natural language.\\n12. Text-to-Speech and Speech-to-Text Conversion: Converting written text into spoken language and vice versa.\\n13. Language Modeling: Predicting the next word or sequence of words in a sentence.\\n14. Text Mining: Extracting useful information and insights from large amounts of text data.\\n15. Document Classification: Automatically categorizing documents into predefined categories or topics.\\n\\nThese are just a few examples, and NLP has many more applications in various fields.'"
      ]
     },
     "execution_count": 47,
     "metadata": {},
     "output_type": "execute_result"
    }
   ],
   "source": [
    "from langchain.chains.question_answering import load_qa_chain\n",
    "from langchain.chat_models import ChatOpenAI\n",
    "\n",
    "llm = ChatOpenAI(model_name=\"gpt-3.5-turbo\", temperature=0)\n",
    "\n",
    "chain = load_qa_chain(llm, chain_type=\"stuff\",verbose=True)\n",
    "query = \"what are the applications of NLP\"\n",
    "chain.run(input_documents=similar_docs,question=query)\n"
   ]
  },
  {
   "cell_type": "code",
   "execution_count": 48,
   "id": "78eb1b78",
   "metadata": {},
   "outputs": [
    {
     "name": "stdout",
     "output_type": "stream",
     "text": [
      "\n",
      "\n",
      "\u001b[1m> Entering new StuffDocumentsChain chain...\u001b[0m\n",
      "\n",
      "\n",
      "\u001b[1m> Entering new LLMChain chain...\u001b[0m\n",
      "Prompt after formatting:\n",
      "\u001b[32;1m\u001b[1;3mSystem: Use the following pieces of context to answer the users question. \n",
      "If you don't know the answer, just say that you don't know, don't try to make up an answer.\n",
      "----------------\n",
      "Now, modern NLP consists of various applications, like speech recognition, machine translation, and machine text reading. When we combine all these applications then it allows the artificial intelligence to gain knowledge of the world. Let's consider the example of AMAZON ALEXA, using this robot you can ask the question to Alexa, and it will reply to you.\n",
      "\n",
      "Phases of NLP\n",
      "There are the following five phases of NLP:\n",
      "Human: List out the Applications of NLP\u001b[0m\n",
      "\n",
      "\u001b[1m> Finished chain.\u001b[0m\n",
      "\n",
      "\u001b[1m> Finished chain.\u001b[0m\n"
     ]
    },
    {
     "data": {
      "text/plain": [
       "'The applications of NLP include:\\n\\n1. Speech Recognition: This application allows computers to understand and interpret human speech. It is used in voice assistants like Siri, Google Assistant, and Amazon Alexa.\\n\\n2. Machine Translation: NLP is used to translate text or speech from one language to another. Examples include Google Translate and language translation services.\\n\\n3. Sentiment Analysis: This application helps in analyzing and understanding the sentiment or emotion behind a piece of text. It is used in social media monitoring, customer feedback analysis, and market research.\\n\\n4. Text Summarization: NLP can be used to automatically generate summaries of large texts or documents. It is useful in news articles, research papers, and legal documents.\\n\\n5. Named Entity Recognition: This application helps in identifying and classifying named entities in text, such as names of people, organizations, locations, and dates. It is used in information extraction, search engines, and recommendation systems.\\n\\nThese are just a few examples of the applications of NLP, and there are many more being developed and used in various industries.'"
      ]
     },
     "execution_count": 48,
     "metadata": {},
     "output_type": "execute_result"
    }
   ],
   "source": [
    "query = \"List out the Applications of NLP\"\n",
    "similar_docs = db.similarity_search(query=query,k=2)\n",
    "chain.run(input_documents=similar_docs,question=query)"
   ]
  },
  {
   "cell_type": "code",
   "execution_count": 49,
   "id": "b2fc4954",
   "metadata": {},
   "outputs": [
    {
     "name": "stdout",
     "output_type": "stream",
     "text": [
      "\n",
      "\n",
      "\u001b[1m> Entering new StuffDocumentsChain chain...\u001b[0m\n",
      "\n",
      "\n",
      "\u001b[1m> Entering new LLMChain chain...\u001b[0m\n",
      "Prompt after formatting:\n",
      "\u001b[32;1m\u001b[1;3mSystem: Use the following pieces of context to answer the users question. \n",
      "If you don't know the answer, just say that you don't know, don't try to make up an answer.\n",
      "----------------\n",
      "What is NLP?\n",
      "NLP stands for Natural Language Processing, which is a part of Computer Science, Human language, and Artificial Intelligence. It is the technology that is used by machines to understand, analyse, manipulate, and interpret human's languages. It helps developers to organize knowledge for performing tasks such as translation, automatic summarization, Named Entity Recognition (NER), speech recognition, relationship extraction, and topic segmentation.\n",
      "\n",
      "NLU\n",
      "NLG\n",
      "\n",
      "\n",
      "NLU is the process of reading and interpreting language.\n",
      "NLG is the process of writing or generating language.\n",
      "\n",
      "\n",
      "It produces non-linguistic outputs from natural language inputs.\n",
      "It produces constructing natural language outputs from non-linguistic inputs.\n",
      "\n",
      "\n",
      "\n",
      "Applications of NLP\n",
      "There are the following applications of NLP -\n",
      "1. Question Answering\n",
      "Question Answering focuses on building systems that automatically answer the questions asked by humans in a natural language.\n",
      "Human: What is NLP\u001b[0m\n",
      "\n",
      "\u001b[1m> Finished chain.\u001b[0m\n",
      "\n",
      "\u001b[1m> Finished chain.\u001b[0m\n"
     ]
    },
    {
     "data": {
      "text/plain": [
       "'NLP stands for Natural Language Processing. It is a field of computer science and artificial intelligence that focuses on the interaction between computers and human language. NLP involves the development of algorithms and models that enable computers to understand, interpret, and generate human language. It is used in various applications such as machine translation, sentiment analysis, chatbots, and information extraction.'"
      ]
     },
     "execution_count": 49,
     "metadata": {},
     "output_type": "execute_result"
    }
   ],
   "source": [
    "query = \"What is NLP\"\n",
    "similar_docs = db.similarity_search(query=query,k=2)\n",
    "chain.run(input_documents=similar_docs,question=query)"
   ]
  }
 ],
 "metadata": {
  "kernelspec": {
   "display_name": "Python 3 (ipykernel)",
   "language": "python",
   "name": "python3"
  },
  "language_info": {
   "codemirror_mode": {
    "name": "ipython",
    "version": 3
   },
   "file_extension": ".py",
   "mimetype": "text/x-python",
   "name": "python",
   "nbconvert_exporter": "python",
   "pygments_lexer": "ipython3",
   "version": "3.9.17"
  }
 },
 "nbformat": 4,
 "nbformat_minor": 5
}
